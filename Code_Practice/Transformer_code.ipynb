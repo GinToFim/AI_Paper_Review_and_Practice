{
 "cells": [
  {
   "cell_type": "markdown",
   "metadata": {
    "id": "mnzqeX2cwhVP"
   },
   "source": [
    "## **Transformer Code Practice**\n",
    "\n",
    "* BLEU score\n",
    "* Postional Encoding\n",
    "* Scaeld Dot-Product Attention\n",
    "* Multi-Head Attention\n",
    "* <font color=\"red\">Feed Forward...</font>"
   ]
  },
  {
   "cell_type": "markdown",
   "metadata": {
    "id": "iAXSvIM5thTO"
   },
   "source": [
    "참고 : \n",
    "* https://paul-hyun.github.io/transformer-01/ \n",
    "* https://github.com/paul-hyun/transformer-evolution "
   ]
  },
  {
   "cell_type": "markdown",
   "metadata": {
    "id": "wmYKZvtKFvIu"
   },
   "source": [
    "### **사전 작업**"
   ]
  },
  {
   "cell_type": "code",
   "execution_count": null,
   "metadata": {
    "colab": {
     "base_uri": "https://localhost:8080/"
    },
    "executionInfo": {
     "elapsed": 5592,
     "status": "ok",
     "timestamp": 1647274673672,
     "user": {
      "displayName": "김진호",
      "photoUrl": "https://lh3.googleusercontent.com/a/default-user=s64",
      "userId": "17986262001557946094"
     },
     "user_tz": -540
    },
    "id": "aoATfZxYFvRo",
    "outputId": "39c7fed4-99bb-461e-bb47-cf924801a824"
   },
   "outputs": [
    {
     "name": "stdout",
     "output_type": "stream",
     "text": [
      "Collecting sentencepiece\n",
      "  Downloading sentencepiece-0.1.96-cp37-cp37m-manylinux_2_17_x86_64.manylinux2014_x86_64.whl (1.2 MB)\n",
      "\u001b[K     |████████████████████████████████| 1.2 MB 4.0 MB/s \n",
      "\u001b[?25hInstalling collected packages: sentencepiece\n",
      "Successfully installed sentencepiece-0.1.96\n"
     ]
    }
   ],
   "source": [
    "!pip install sentencepiece"
   ]
  },
  {
   "cell_type": "code",
   "execution_count": null,
   "metadata": {
    "colab": {
     "base_uri": "https://localhost:8080/"
    },
    "executionInfo": {
     "elapsed": 24252,
     "status": "ok",
     "timestamp": 1647274697900,
     "user": {
      "displayName": "김진호",
      "photoUrl": "https://lh3.googleusercontent.com/a/default-user=s64",
      "userId": "17986262001557946094"
     },
     "user_tz": -540
    },
    "id": "NyNLRrBYF30M",
    "outputId": "683009ef-6dcc-490e-ddb7-ab548dc235f5"
   },
   "outputs": [
    {
     "name": "stdout",
     "output_type": "stream",
     "text": [
      "Mounted at /content/drive\n"
     ]
    }
   ],
   "source": [
    "from google.colab import drive\n",
    "drive.mount('/content/drive')"
   ]
  },
  {
   "cell_type": "code",
   "execution_count": null,
   "metadata": {
    "id": "B3jfr4tJHCX3"
   },
   "outputs": [],
   "source": [
    "# 라이브러리 import\n",
    "import os\n",
    "import numpy as np\n",
    "import math\n",
    "import matplotlib.pyplot as plt\n",
    "import sentencepiece as spm\n",
    "\n",
    "import torch\n",
    "import torch.nn as nn\n",
    "import torch.nn.functional as F"
   ]
  },
  {
   "cell_type": "code",
   "execution_count": null,
   "metadata": {
    "id": "3pZlxUUbF9KZ"
   },
   "outputs": [],
   "source": [
    "# 파일 경로 설정\n",
    "data_dir = \"/content/drive/MyDrive/Colab Notebooks/Transformer\""
   ]
  },
  {
   "cell_type": "markdown",
   "metadata": {
    "id": "aLG6fsOgxnAy"
   },
   "source": [
    "## **BLEU Score**\n",
    "\n",
    "참고 :\n",
    "* https://jrc-park.tistory.com/273\n",
    "* https://wikidocs.net/31695\n",
    "* https://donghwa-kim.github.io/BLEU.html\n",
    "\n",
    "\n",
    "Attention is All You Need 에서는 BLEU score를 기준으로 SOTA model을 갱신했다고 하는데, <br>\n",
    "여기서 BLEU Score가 무엇인지 파악해도록 하겠습니다. <br>\n",
    "\n",
    "Generated Sentece를 평가하는 방식 중 하나인 BLEU(Biingual Evaluation Understudy)는 자연어 처리 모델의 성능이 <br> 얼마나 뛰어난가를 측정하기 위해 사용되는 대표적인 방법 중 하나입니다.\n",
    "\n"
   ]
  },
  {
   "cell_type": "code",
   "execution_count": null,
   "metadata": {
    "colab": {
     "base_uri": "https://localhost:8080/"
    },
    "executionInfo": {
     "elapsed": 2081,
     "status": "ok",
     "timestamp": 1647274705909,
     "user": {
      "displayName": "김진호",
      "photoUrl": "https://lh3.googleusercontent.com/a/default-user=s64",
      "userId": "17986262001557946094"
     },
     "user_tz": -540
    },
    "id": "aRUKwdJr6ERV",
    "outputId": "1275fda3-270b-42b7-955d-b19dc782fd75"
   },
   "outputs": [
    {
     "name": "stdout",
     "output_type": "stream",
     "text": [
      "BLEU Score : 0.9444444444444444\n",
      "BLEU Score : 0.7453559924999299\n",
      "BLEU Score : 0.5045666840058485\n"
     ]
    }
   ],
   "source": [
    "import nltk.translate.bleu_score as bleu\n",
    "\n",
    "candidate = 'It is a guide to action which ensures that the military always obeys the commands of the party'\n",
    "references = [\n",
    "    'It is a guide to action that ensures that the military will forever heed Party commands',\n",
    "    'It is the guiding principle which guarantees the military forces always being under the command of the Party',\n",
    "    'It is the practical guide for the army always to heed the directions of the party'\n",
    "]\n",
    "\n",
    "print('BLEU Score :',bleu.sentence_bleu(list(map(lambda ref: ref.split(), references)),candidate.split(), weights=(1, 0, 0, 0)))\n",
    "print('BLEU Score :',bleu.sentence_bleu(list(map(lambda ref: ref.split(), references)),candidate.split(), weights=(0.5, 0.5, 0, 0)))\n",
    "print('BLEU Score :',bleu.sentence_bleu(list(map(lambda ref: ref.split(), references)),candidate.split(), weights=(0.25, 0.25, 0.25, 0.25)))"
   ]
  },
  {
   "cell_type": "markdown",
   "metadata": {
    "id": "bxHt7-kvxvDV"
   },
   "source": [
    "## **Postional Encoding**\n",
    "\n",
    "\n",
    "<a href='https://ifh.cc/v-m7sL4m' target='_blank'><img src='https://ifh.cc/g/m7sL4m.jpg' border='0' width=\"50%\"></a>\n",
    "\n",
    "<font size=\"4\">$\\quad PE_{(pos, 2i)} = sin(pos/10000^{2i/d_{model}})$ </font>\n",
    "\n",
    "<font size=\"4\">$PE_{(pos, 2i+1)} = cos(pos/10000^{2i/d_{model}})$ </font>\n"
   ]
  },
  {
   "cell_type": "code",
   "execution_count": null,
   "metadata": {
    "colab": {
     "base_uri": "https://localhost:8080/"
    },
    "executionInfo": {
     "elapsed": 545,
     "status": "ok",
     "timestamp": 1647274707380,
     "user": {
      "displayName": "김진호",
      "photoUrl": "https://lh3.googleusercontent.com/a/default-user=s64",
      "userId": "17986262001557946094"
     },
     "user_tz": -540
    },
    "id": "jkVe3CLXHSb4",
    "outputId": "0e7dba05-3959-4ca7-8bb4-fb326d32a4d2"
   },
   "outputs": [
    {
     "name": "stdout",
     "output_type": "stream",
     "text": [
      "0번째 문장\n",
      "['▁겨울', '은', '▁추', '워', '요', '.']\n",
      "[3091, 3604, 206, 3958, 3760, 3590] \n",
      "\n",
      "1번째 문장\n",
      "['▁감', '기', '▁조', '심', '하', '세', '요', '.']\n",
      "[212, 3605, 53, 3832, 3596, 3682, 3760, 3590] \n",
      "\n",
      "torch.Size([2, 8])\n",
      "tensor([[3091, 3604,  206, 3958, 3760, 3590,    0,    0],\n",
      "        [ 212, 3605,   53, 3832, 3596, 3682, 3760, 3590]])\n"
     ]
    }
   ],
   "source": [
    "# vocab loading (미리 만들어놓은 vocab 업로드)\n",
    "vocab_file = f\"{data_dir}/kowiki.model\"\n",
    "vocab = spm.SentencePieceProcessor()\n",
    "vocab.load(vocab_file)\n",
    "\n",
    "# 입력 texts\n",
    "lines = [\n",
    "  \"겨울은 추워요.\",\n",
    "  \"감기 조심하세요.\"\n",
    "]\n",
    "    \n",
    "# text를 tensor로 변환\n",
    "inputs = []\n",
    "for idx, line in enumerate(lines):\n",
    "    pieces = vocab.encode_as_pieces(line)\n",
    "    ids = vocab.encode_as_ids(line)\n",
    "    inputs.append(torch.tensor(ids))\n",
    "    print(f'{idx}번째 문장')\n",
    "    print(pieces)\n",
    "    print(ids, '\\n')\n",
    "\n",
    "# 입력 길이가 다르므로 입력 최대 길이에 맟춰 padding(0)을 추가 해 줌\n",
    "inputs = torch.nn.utils.rnn.pad_sequence(inputs, batch_first=True, padding_value=0)\n",
    "# shape\n",
    "print(inputs.size())\n",
    "# 값\n",
    "print(inputs)"
   ]
  },
  {
   "cell_type": "markdown",
   "metadata": {
    "id": "50GrHNX6JFwz"
   },
   "source": [
    "**-- Input Embedding**\n",
    "\n",
    "embedding은 입력 토큰을 vector 형태로 변환합니다. <br>\n",
    "본 논문에서는 d = 512만큼 설정했지만 여기서는 d = 128만큼 설정하겠습니다. <br>\n",
    "\n",
    "`input_embs.size()` 출력값이 2, 8, 128 만큼 나왔는데, <br>\n",
    "'2문장, 8단어(최대 단어 개수), 128 차원'이라는 뜻입니다."
   ]
  },
  {
   "cell_type": "code",
   "execution_count": null,
   "metadata": {
    "colab": {
     "base_uri": "https://localhost:8080/"
    },
    "executionInfo": {
     "elapsed": 9,
     "status": "ok",
     "timestamp": 1647274707380,
     "user": {
      "displayName": "김진호",
      "photoUrl": "https://lh3.googleusercontent.com/a/default-user=s64",
      "userId": "17986262001557946094"
     },
     "user_tz": -540
    },
    "id": "sA3SLMNtHAYu",
    "outputId": "6983959f-4911-45a3-a105-f330450b6bc3"
   },
   "outputs": [
    {
     "name": "stdout",
     "output_type": "stream",
     "text": [
      "torch.Size([2, 8, 128])\n",
      "tensor([[[-0.1421,  0.6306, -0.7490,  ...,  1.3064, -0.8705, -0.2447],\n",
      "         [ 0.3673,  0.6761, -0.5105,  ..., -0.2747, -0.4493, -0.7103],\n",
      "         [-1.7454,  0.6743, -1.6177,  ..., -0.6088, -0.6438, -0.2145],\n",
      "         ...,\n",
      "         [-1.2813,  0.3444, -0.5184,  ...,  0.8889, -1.0588,  0.4654],\n",
      "         [-1.5482,  0.0280,  0.8931,  ..., -0.5704,  2.4077,  1.0299],\n",
      "         [-1.5482,  0.0280,  0.8931,  ..., -0.5704,  2.4077,  1.0299]],\n",
      "\n",
      "        [[ 2.2807, -0.1671, -0.4197,  ..., -0.8450, -0.2379,  0.1185],\n",
      "         [ 0.2546,  0.8912,  0.0116,  ...,  0.6089,  0.4495,  0.6470],\n",
      "         [-0.2236,  0.0989,  2.1149,  ..., -0.2318, -2.0038, -0.3465],\n",
      "         ...,\n",
      "         [-0.4514, -1.1650,  2.3831,  ..., -1.3980,  0.9869,  1.4279],\n",
      "         [-0.8078,  0.8627,  0.9116,  ...,  0.4185, -0.2246,  2.0235],\n",
      "         [-1.2813,  0.3444, -0.5184,  ...,  0.8889, -1.0588,  0.4654]]],\n",
      "       grad_fn=<EmbeddingBackward0>)\n"
     ]
    }
   ],
   "source": [
    "n_vocab = len(vocab) # vocab count\n",
    "d_hidn = 128 # hidden size\n",
    "nn_emb = nn.Embedding(n_vocab, d_hidn) # embedding 객체\n",
    "\n",
    "input_embs = nn_emb(inputs) # input embedding\n",
    "print(input_embs.size())\n",
    "print(input_embs)"
   ]
  },
  {
   "cell_type": "markdown",
   "metadata": {
    "id": "hvcZjEw2Jy6r"
   },
   "source": [
    "**-- Positional Encoding**\n",
    "\n",
    "Position encoding 값을 구하기 위한 함수는 다음과 같습니다.\n",
    "\n",
    "1. 각 position 별로 angle 값을 구합니다.\n",
    "2. 구해진 angle 중 짝수 index는 **sin** 값을,\n",
    "2. 구해진 angle 중 홀수 index는 **cos** 값을 구합니다."
   ]
  },
  {
   "cell_type": "code",
   "execution_count": null,
   "metadata": {
    "id": "FZqO2oX4J1h4"
   },
   "outputs": [],
   "source": [
    "\"\"\" sinusoid position embedding \"\"\"\n",
    "def get_sinusoid_encoding_table(n_seq, d_hidn):\n",
    "    def get_position_angle_vec(position):\n",
    "            return [position / np.power(10000, 2 * (hid_j // 2) / d_hidn) for hid_j in range(d_hidn)]\n",
    "\n",
    "    sinusoid_table = np.array([get_position_angle_vec(i_seq) for i_seq in range(n_seq)])\n",
    "    sinusoid_table[:, 0::2] = np.sin(sinusoid_table[:, 0::2])  # dim 2i -> 짝수이면 sine\n",
    "    sinusoid_table[:, 1::2] = np.cos(sinusoid_table[:, 1::2])  # dim 2i+1 -> 홀수이면 cosine\n",
    "\n",
    "    return sinusoid_table\n"
   ]
  },
  {
   "cell_type": "code",
   "execution_count": null,
   "metadata": {
    "colab": {
     "base_uri": "https://localhost:8080/",
     "height": 301
    },
    "executionInfo": {
     "elapsed": 966,
     "status": "ok",
     "timestamp": 1647274708341,
     "user": {
      "displayName": "김진호",
      "photoUrl": "https://lh3.googleusercontent.com/a/default-user=s64",
      "userId": "17986262001557946094"
     },
     "user_tz": -540
    },
    "id": "pYpLmPf-KQBE",
    "outputId": "cc27a847-4735-4712-c6c0-7ee8c12c3f26"
   },
   "outputs": [
    {
     "name": "stdout",
     "output_type": "stream",
     "text": [
      "(64, 128)\n"
     ]
    },
    {
     "data": {
      "image/png": "[encoded data removed]",
      "text/plain": [
       "<Figure size 432x288 with 2 Axes>"
      ]
     },
     "metadata": {
      "needs_background": "light"
     },
     "output_type": "display_data"
    }
   ],
   "source": [
    "n_seq = 64\n",
    "pos_encoding = get_sinusoid_encoding_table(n_seq, d_hidn)\n",
    "\n",
    "print (pos_encoding.shape) # 크기 출력\n",
    "plt.pcolormesh(pos_encoding, cmap='RdBu')\n",
    "plt.xlabel('Depth')\n",
    "plt.xlim((0, d_hidn))\n",
    "plt.ylabel('Position')\n",
    "plt.colorbar()\n",
    "plt.show()"
   ]
  },
  {
   "cell_type": "markdown",
   "metadata": {
    "id": "QZI3cmtzM8SH"
   },
   "source": [
    "위에서 구한 결과를 그래프로 출력하면 각 position 별로 다른 값을 갖는 것을 확인할 수 있습니다. <br>\n",
    "(사실 위 그래프를 보고서는 저도 잘 모르겠습니다...)"
   ]
  },
  {
   "cell_type": "markdown",
   "metadata": {
    "id": "N96mog_vNOHJ"
   },
   "source": [
    "아래 절차로 position embedding 값을 구합니다.\n",
    "\n",
    "1. 위에서 구해진 position encodong 값을 이용해 position emgedding을 생성합니다. <br> 학습되는 값이 아니므로 freeze옵션을 True로 설정 합니다.\n",
    "2. 입력 inputs과 동일한 크기를 갖는 positions 값을 구합니다.\n",
    "3. input 값 중 pad(0) 값을 찾습니다.\n",
    "4. positions 값 중 pad 부분은 0으로 변경 합니다.\n",
    "5. positions 값에 해당하는 embedding 값을 구합니다."
   ]
  },
  {
   "cell_type": "code",
   "execution_count": null,
   "metadata": {
    "colab": {
     "base_uri": "https://localhost:8080/"
    },
    "executionInfo": {
     "elapsed": 642,
     "status": "ok",
     "timestamp": 1647274790314,
     "user": {
      "displayName": "김진호",
      "photoUrl": "https://lh3.googleusercontent.com/a/default-user=s64",
      "userId": "17986262001557946094"
     },
     "user_tz": -540
    },
    "id": "zSPgjwa3K_av",
    "outputId": "45ff2658-07aa-44ba-f48e-c8b95a4ff43d"
   },
   "outputs": [
    {
     "name": "stdout",
     "output_type": "stream",
     "text": [
      "inputs\n",
      "tensor([[3091, 3604,  206, 3958, 3760, 3590,    0,    0],\n",
      "        [ 212, 3605,   53, 3832, 3596, 3682, 3760, 3590]]) \n",
      "\n",
      "positions\n",
      "tensor([[1, 2, 3, 4, 5, 6, 0, 0],\n",
      "        [1, 2, 3, 4, 5, 6, 7, 8]]) \n",
      "\n",
      "input_embs.size() : torch.Size([2, 8, 128])\n",
      "pos_embs.size() : torch.Size([2, 8, 128])\n"
     ]
    }
   ],
   "source": [
    "pos_encoding = torch.FloatTensor(pos_encoding)\n",
    "nn_pos = nn.Embedding.from_pretrained(pos_encoding, freeze=True)\n",
    "\n",
    "positions = torch.arange(inputs.size(1), device=inputs.device, dtype=inputs.dtype).expand(inputs.size(0), inputs.size(1)).contiguous() + 1\n",
    "pos_mask = inputs.eq(0)\n",
    "\n",
    "positions.masked_fill_(pos_mask, 0)\n",
    "pos_embs = nn_pos(positions) # position embedding\n",
    "\n",
    "print('inputs')\n",
    "print(inputs, '\\n')    # input_embedding\n",
    "\n",
    "print('positions')\n",
    "print(positions, '\\n') # 위치에 대한 정보\n",
    "print('input_embs.size() :', input_embs.size())\n",
    "print('pos_embs.size() :', pos_embs.size())"
   ]
  },
  {
   "cell_type": "markdown",
   "metadata": {
    "id": "-wS2dUK9NrqI"
   },
   "source": [
    "보시다시피 inputs의 pad(0) 위치에 positions의 값도 pad(0)으로 변경된 것을 확인할 수 있습니다.\n",
    "\n",
    "이제 위에서 구한 input_embs과 pos_embs를 더하면 transformer에 입력할 input이 됩니다."
   ]
  },
  {
   "cell_type": "code",
   "execution_count": null,
   "metadata": {
    "colab": {
     "base_uri": "https://localhost:8080/"
    },
    "executionInfo": {
     "elapsed": 26,
     "status": "ok",
     "timestamp": 1647274709265,
     "user": {
      "displayName": "김진호",
      "photoUrl": "https://lh3.googleusercontent.com/a/default-user=s64",
      "userId": "17986262001557946094"
     },
     "user_tz": -540
    },
    "id": "6ZIYp4JWLA4v",
    "outputId": "6eb8bc4b-7a6a-45b6-902a-aeab6ef63dc8"
   },
   "outputs": [
    {
     "name": "stdout",
     "output_type": "stream",
     "text": [
      "tensor([[[ 0.6994,  1.1709,  0.0127,  ...,  2.3064, -0.8704,  0.7553],\n",
      "         [ 1.2766,  0.2600,  0.4766,  ...,  0.7253, -0.4491,  0.2897],\n",
      "         [-1.6043, -0.3157, -1.1004,  ...,  0.3912, -0.6435,  0.7855],\n",
      "         ...,\n",
      "         [-1.5607,  1.3046, -1.4038,  ...,  1.8889, -1.0581,  1.4654],\n",
      "         [-1.5482,  1.0280,  0.8931,  ...,  0.4296,  2.4077,  2.0299],\n",
      "         [-1.5482,  1.0280,  0.8931,  ...,  0.4296,  2.4077,  2.0299]],\n",
      "\n",
      "        [[ 3.1222,  0.3732,  0.3420,  ...,  0.1550, -0.2378,  1.1185],\n",
      "         [ 1.1639,  0.4751,  0.9986,  ...,  1.6089,  0.4497,  1.6470],\n",
      "         [-0.0825, -0.8911,  2.6322,  ...,  0.7682, -2.0035,  0.6535],\n",
      "         ...,\n",
      "         [-0.7308, -0.2048,  1.4977,  ..., -0.3980,  0.9876,  2.4279],\n",
      "         [-0.1508,  1.6166,  0.6920,  ...,  1.4185, -0.2238,  3.0235],\n",
      "         [-0.2919,  0.1989,  0.0824,  ...,  1.8889, -1.0579,  1.4654]]],\n",
      "       grad_fn=<AddBackward0>)\n"
     ]
    }
   ],
   "source": [
    "input_sums = input_embs + pos_embs\n",
    "\n",
    "print(input_sums)"
   ]
  },
  {
   "cell_type": "markdown",
   "metadata": {
    "id": "8xlSgfJqp5oD"
   },
   "source": [
    "## **Scaled Dot-Product Attention**\n",
    "\n",
    "<a href=\"https://imgbb.com/\"><img src=\"https://i.ibb.co/tXGF65w/15.png\" alt=\"15\" border=\"0\"></a>\n",
    "\n",
    "<font size=\"4\">${\\text{Attention}}(Q, K, V) = \\text{softmax}\\left(\\frac{QK^{T}}{\\sqrt{d_k}}\\right)V$ </font>\n",
    "\n",
    "위 함수에서 입력값은 Q(query), K(key), V(value) 그리고 atteiton mask로 구성되어 있습니다.\n",
    "\n",
    "입력값 중 K, V는 필수적으로 같은 값이어야 하고, <br>\n",
    "그중에서 Q, K, V 가 모두 동일한 경우를 **'self attention'**이라고 합니다.\n",
    "\n",
    "\n",
    "\n"
   ]
  },
  {
   "cell_type": "markdown",
   "metadata": {
    "id": "cDUefxJWKEs_"
   },
   "source": [
    "-- **input**"
   ]
  },
  {
   "cell_type": "code",
   "execution_count": null,
   "metadata": {
    "colab": {
     "base_uri": "https://localhost:8080/"
    },
    "executionInfo": {
     "elapsed": 559,
     "status": "ok",
     "timestamp": 1647275832875,
     "user": {
      "displayName": "김진호",
      "photoUrl": "https://lh3.googleusercontent.com/a/default-user=s64",
      "userId": "17986262001557946094"
     },
     "user_tz": -540
    },
    "id": "WG7DtW8Ixt2-",
    "outputId": "f71f931b-6120-43d2-aafd-357256c053c8"
   },
   "outputs": [
    {
     "name": "stdout",
     "output_type": "stream",
     "text": [
      "torch.Size([2, 8, 8])\n",
      "tensor([[False, False, False, False, False, False,  True,  True],\n",
      "        [False, False, False, False, False, False,  True,  True],\n",
      "        [False, False, False, False, False, False,  True,  True],\n",
      "        [False, False, False, False, False, False,  True,  True],\n",
      "        [False, False, False, False, False, False,  True,  True],\n",
      "        [False, False, False, False, False, False,  True,  True],\n",
      "        [False, False, False, False, False, False,  True,  True],\n",
      "        [False, False, False, False, False, False,  True,  True]])\n"
     ]
    }
   ],
   "source": [
    "Q = input_sums\n",
    "K = input_sums\n",
    "V = input_sums\n",
    "\n",
    "attn_mask = inputs.eq(0).unsqueeze(1).expand(Q.size(0), Q.size(1), K.size(1))\n",
    "print(attn_mask.size())\n",
    "print(attn_mask[0])"
   ]
  },
  {
   "cell_type": "markdown",
   "metadata": {
    "id": "K7z1B0wHL4wY"
   },
   "source": [
    "attn_mask의 값은 pad가 0인 부분에서만 True입니다."
   ]
  },
  {
   "cell_type": "markdown",
   "metadata": {
    "id": "kwVU-Gc-PP2H"
   },
   "source": [
    "<b> -- MatMul Q, K-transpose </b>\n",
    "\n",
    "이제 Query 행렬과 Key의 전치행렬에 대한 행렬과을 진행하겠습니다."
   ]
  },
  {
   "cell_type": "code",
   "execution_count": null,
   "metadata": {
    "colab": {
     "base_uri": "https://localhost:8080/"
    },
    "executionInfo": {
     "elapsed": 516,
     "status": "ok",
     "timestamp": 1647275842477,
     "user": {
      "displayName": "김진호",
      "photoUrl": "https://lh3.googleusercontent.com/a/default-user=s64",
      "userId": "17986262001557946094"
     },
     "user_tz": -540
    },
    "id": "as9a6SidPFvn",
    "outputId": "9742d86a-b4a6-4ea1-c734-fdef43947b74"
   },
   "outputs": [
    {
     "name": "stdout",
     "output_type": "stream",
     "text": [
      "torch.Size([2, 8, 8])\n",
      "tensor([[217.8584,  59.0134,  59.8017,  67.2682,  51.7192,  76.2682,  51.6626,\n",
      "          51.6626],\n",
      "        [ 59.0134, 170.2908,  72.4778,  60.0985,  59.1402,  61.7455,  50.0495,\n",
      "          50.0495],\n",
      "        [ 59.8017,  72.4778, 189.7342,  65.5688,  62.6802,  61.2112,  32.2341,\n",
      "          32.2341],\n",
      "        [ 67.2682,  60.0985,  65.5688, 205.5732,  75.7920,  60.4958,  22.6573,\n",
      "          22.6573],\n",
      "        [ 51.7192,  59.1402,  62.6802,  75.7920, 207.9016,  77.3711,  52.2956,\n",
      "          52.2956],\n",
      "        [ 76.2682,  61.7455,  61.2112,  60.4958,  77.3711, 196.0453,  46.6298,\n",
      "          46.6298],\n",
      "        [ 51.6626,  50.0495,  32.2341,  22.6573,  52.2956,  46.6298, 173.3966,\n",
      "         173.3966],\n",
      "        [ 51.6626,  50.0495,  32.2341,  22.6573,  52.2956,  46.6298, 173.3966,\n",
      "         173.3966]], grad_fn=<SelectBackward0>)\n"
     ]
    }
   ],
   "source": [
    "scores= torch.matmul(Q, K.transpose(-2, -1))\n",
    "print(scores.size())\n",
    "print(scores[0])"
   ]
  },
  {
   "cell_type": "markdown",
   "metadata": {
    "id": "Yd_vLmk0QoZV"
   },
   "source": [
    "<b> -- Scale</b>\n",
    "\n",
    "k-dimension에 루트를 취하고 나누겠습니다. "
   ]
  },
  {
   "cell_type": "code",
   "execution_count": null,
   "metadata": {
    "colab": {
     "base_uri": "https://localhost:8080/"
    },
    "executionInfo": {
     "elapsed": 492,
     "status": "ok",
     "timestamp": 1647275846073,
     "user": {
      "displayName": "김진호",
      "photoUrl": "https://lh3.googleusercontent.com/a/default-user=s64",
      "userId": "17986262001557946094"
     },
     "user_tz": -540
    },
    "id": "MxISMrzFQoFT",
    "outputId": "3a7a908a-1a31-4998-a31a-ac109056dbaa"
   },
   "outputs": [
    {
     "name": "stdout",
     "output_type": "stream",
     "text": [
      "torch.Size([2, 8, 8])\n",
      "tensor([[27.2323,  7.3767,  7.4752,  8.4085,  6.4649,  9.5335,  6.4578,  6.4578],\n",
      "        [ 7.3767, 21.2864,  9.0597,  7.5123,  7.3925,  7.7182,  6.2562,  6.2562],\n",
      "        [ 7.4752,  9.0597, 23.7168,  8.1961,  7.8350,  7.6514,  4.0293,  4.0293],\n",
      "        [ 8.4085,  7.5123,  8.1961, 25.6967,  9.4740,  7.5620,  2.8322,  2.8322],\n",
      "        [ 6.4649,  7.3925,  7.8350,  9.4740, 25.9877,  9.6714,  6.5370,  6.5370],\n",
      "        [ 9.5335,  7.7182,  7.6514,  7.5620,  9.6714, 24.5057,  5.8287,  5.8287],\n",
      "        [ 6.4578,  6.2562,  4.0293,  2.8322,  6.5370,  5.8287, 21.6746, 21.6746],\n",
      "        [ 6.4578,  6.2562,  4.0293,  2.8322,  6.5370,  5.8287, 21.6746, 21.6746]],\n",
      "       grad_fn=<SelectBackward0>)\n"
     ]
    }
   ],
   "source": [
    "d_k = 64\n",
    "scores = scores.mul_(1 / d_k**0.5)\n",
    "print(scores.size())\n",
    "print(scores[0])"
   ]
  },
  {
   "cell_type": "markdown",
   "metadata": {
    "id": "1S3ACdtuR9vs"
   },
   "source": [
    "<b> -- Mask (Opt.)</b>\n",
    "\n",
    "<img src=\"https://img1.daumcdn.net/thumb/R1280x0/?scode=mtistory2&fname=https%3A%2F%2Fblog.kakaocdn.net%2Fdn%2Fbzo8Gh%2Fbtq2HukXCcU%2FwcLdnXRmDILJkQ7P89IEtk%2Fimg.png\" width=\"70%\">\n",
    "\n",
    "그 다음에는 masking을 진행하도록 하겠습니다. <br>\n",
    "일부러 softmax 확률이 0에 가깝게 나오게 만들기 위해서 매우 큰 음수(-∞)를 설정합니다. "
   ]
  },
  {
   "cell_type": "code",
   "execution_count": null,
   "metadata": {
    "colab": {
     "base_uri": "https://localhost:8080/"
    },
    "executionInfo": {
     "elapsed": 428,
     "status": "ok",
     "timestamp": 1647275866246,
     "user": {
      "displayName": "김진호",
      "photoUrl": "https://lh3.googleusercontent.com/a/default-user=s64",
      "userId": "17986262001557946094"
     },
     "user_tz": -540
    },
    "id": "RMaonjU7R-HH",
    "outputId": "813cf35f-4d24-409b-fb7d-63a5f9631c77"
   },
   "outputs": [
    {
     "name": "stdout",
     "output_type": "stream",
     "text": [
      "torch.Size([2, 8, 8])\n",
      "tensor([[ 2.7232e+01,  7.3767e+00,  7.4752e+00,  8.4085e+00,  6.4649e+00,\n",
      "          9.5335e+00, -1.0000e+09, -1.0000e+09],\n",
      "        [ 7.3767e+00,  2.1286e+01,  9.0597e+00,  7.5123e+00,  7.3925e+00,\n",
      "          7.7182e+00, -1.0000e+09, -1.0000e+09],\n",
      "        [ 7.4752e+00,  9.0597e+00,  2.3717e+01,  8.1961e+00,  7.8350e+00,\n",
      "          7.6514e+00, -1.0000e+09, -1.0000e+09],\n",
      "        [ 8.4085e+00,  7.5123e+00,  8.1961e+00,  2.5697e+01,  9.4740e+00,\n",
      "          7.5620e+00, -1.0000e+09, -1.0000e+09],\n",
      "        [ 6.4649e+00,  7.3925e+00,  7.8350e+00,  9.4740e+00,  2.5988e+01,\n",
      "          9.6714e+00, -1.0000e+09, -1.0000e+09],\n",
      "        [ 9.5335e+00,  7.7182e+00,  7.6514e+00,  7.5620e+00,  9.6714e+00,\n",
      "          2.4506e+01, -1.0000e+09, -1.0000e+09],\n",
      "        [ 6.4578e+00,  6.2562e+00,  4.0293e+00,  2.8322e+00,  6.5370e+00,\n",
      "          5.8287e+00, -1.0000e+09, -1.0000e+09],\n",
      "        [ 6.4578e+00,  6.2562e+00,  4.0293e+00,  2.8322e+00,  6.5370e+00,\n",
      "          5.8287e+00, -1.0000e+09, -1.0000e+09]], grad_fn=<SelectBackward0>)\n"
     ]
    }
   ],
   "source": [
    "scores = scores.masked_fill(attn_mask, -1e9) # -∞ 설정\n",
    "print(scores.size())\n",
    "print(scores[0])"
   ]
  },
  {
   "cell_type": "markdown",
   "metadata": {
    "id": "tMQt_SsiTLfu"
   },
   "source": [
    "이제 위의 score를 softmax 함수에 대입하도록 하겠습니다."
   ]
  },
  {
   "cell_type": "code",
   "execution_count": null,
   "metadata": {
    "colab": {
     "base_uri": "https://localhost:8080/"
    },
    "executionInfo": {
     "elapsed": 15,
     "status": "ok",
     "timestamp": 1647276019742,
     "user": {
      "displayName": "김진호",
      "photoUrl": "https://lh3.googleusercontent.com/a/default-user=s64",
      "userId": "17986262001557946094"
     },
     "user_tz": -540
    },
    "id": "Ybw_uFeSTPOE",
    "outputId": "7cc5d770-b7b9-410d-ce0a-7e740c2fb1ca"
   },
   "outputs": [
    {
     "name": "stdout",
     "output_type": "stream",
     "text": [
      "torch.Size([2, 8, 8])\n",
      "tensor([[1.0000e+00, 2.3813e-09, 2.6279e-09, 6.6824e-09, 9.5682e-10, 2.0583e-08,\n",
      "         0.0000e+00, 0.0000e+00],\n",
      "        [9.1012e-07, 9.9999e-01, 4.8982e-06, 1.0423e-06, 9.2466e-07, 1.2806e-06,\n",
      "         0.0000e+00, 0.0000e+00],\n",
      "        [8.8385e-08, 4.3105e-07, 1.0000e+00, 1.8174e-07, 1.2666e-07, 1.0541e-07,\n",
      "         0.0000e+00, 0.0000e+00],\n",
      "        [3.1036e-08, 1.2666e-08, 2.5096e-08, 1.0000e+00, 9.0073e-08, 1.3311e-08,\n",
      "         0.0000e+00, 0.0000e+00],\n",
      "        [3.3217e-09, 8.3989e-09, 1.3074e-08, 6.7328e-08, 1.0000e+00, 8.2020e-08,\n",
      "         0.0000e+00, 0.0000e+00],\n",
      "        [3.1455e-07, 5.1203e-08, 4.7895e-08, 4.3798e-08, 3.6104e-07, 1.0000e+00,\n",
      "         0.0000e+00, 0.0000e+00],\n",
      "        [2.8188e-01, 2.3041e-01, 2.4852e-02, 7.5069e-03, 3.0509e-01, 1.5026e-01,\n",
      "         0.0000e+00, 0.0000e+00],\n",
      "        [2.8188e-01, 2.3041e-01, 2.4852e-02, 7.5069e-03, 3.0509e-01, 1.5026e-01,\n",
      "         0.0000e+00, 0.0000e+00]], grad_fn=<SelectBackward0>)\n"
     ]
    }
   ],
   "source": [
    "attn_prob = nn.Softmax(dim=-1)(scores)\n",
    "print(attn_prob.size())\n",
    "print(attn_prob[0])"
   ]
  },
  {
   "cell_type": "markdown",
   "metadata": {
    "id": "b860QutmTYvU"
   },
   "source": [
    "가중치가 확률로 변환된 것을 확인할 수 있습니다. mask를 한 부분은 모두 0이 되었습니다."
   ]
  },
  {
   "cell_type": "markdown",
   "metadata": {
    "id": "O-NARahCTjAD"
   },
   "source": [
    "<b> -- Matmul attn_prob, V </b>\n",
    "\n",
    "이제 최종적으로 나온 확률값과 Value를 행렬곱을 진행하겠습니다."
   ]
  },
  {
   "cell_type": "code",
   "execution_count": null,
   "metadata": {
    "colab": {
     "base_uri": "https://localhost:8080/"
    },
    "executionInfo": {
     "elapsed": 7,
     "status": "ok",
     "timestamp": 1647276267068,
     "user": {
      "displayName": "김진호",
      "photoUrl": "https://lh3.googleusercontent.com/a/default-user=s64",
      "userId": "17986262001557946094"
     },
     "user_tz": -540
    },
    "id": "UVfehKTdTip8",
    "outputId": "78242e70-11c7-4621-96a0-177e447e6dcd"
   },
   "outputs": [
    {
     "name": "stdout",
     "output_type": "stream",
     "text": [
      "torch.Size([2, 8, 128])\n",
      "tensor([[ 0.6994,  1.1709,  0.0127,  ...,  2.3064, -0.8704,  0.7553],\n",
      "        [ 1.2766,  0.2600,  0.4766,  ...,  0.7253, -0.4491,  0.2897],\n",
      "        [-1.6043, -0.3157, -1.1004,  ...,  0.3912, -0.6435,  0.7855],\n",
      "        ...,\n",
      "        [-1.5607,  1.3046, -1.4038,  ...,  1.8889, -1.0581,  1.4654],\n",
      "        [-0.3449,  0.9206, -0.1430,  ...,  1.5536, -0.5846,  1.4439],\n",
      "        [-0.3449,  0.9206, -0.1430,  ...,  1.5536, -0.5846,  1.4439]],\n",
      "       grad_fn=<SelectBackward0>)\n"
     ]
    }
   ],
   "source": [
    "context = torch.matmul(attn_prob, V)\n",
    "print(context.size())\n",
    "print(context[0])"
   ]
  },
  {
   "cell_type": "markdown",
   "metadata": {
    "id": "QAqUSTiXUWP0"
   },
   "source": [
    "<b> -- Implementation model </b>\n",
    "\n",
    "위 절차를 모델 구현을 위해 하나의 클래스 형태로 구현하면 다음과 같습니다."
   ]
  },
  {
   "cell_type": "code",
   "execution_count": null,
   "metadata": {
    "id": "YlK05NOlUV9L"
   },
   "outputs": [],
   "source": [
    "\"\"\" scale dot product attention \"\"\"\n",
    "class ScaledDotProductAttention(nn.Module):\n",
    "    def __init__(self, d_head):\n",
    "        super().__init__()\n",
    "        self.scale = 1 / (d_head ** 0.5)\n",
    "    \n",
    "    def forward(self, Q, K, V, attn_mask):\n",
    "        # (bs, n_head, n_q_seq, n_k_seq)\n",
    "        scores = torch.matmul(Q, K.transpose(-1, -2)).mul_(self.scale)\n",
    "        scores.masked_fill_(attn_mask, -1e9)\n",
    "        # (bs, n_head, n_q_seq, n_k_seq)\n",
    "        attn_prob = nn.Softmax(dim=-1)(scores)\n",
    "        # (bs, n_head, n_q_seq, d_v)\n",
    "        context = torch.matmul(attn_prob, V)\n",
    "        # (bs, n_head, n_q_seq, d_v), (bs, n_head, n_q_seq, n_v_seq)\n",
    "        return context, attn_prob"
   ]
  },
  {
   "cell_type": "markdown",
   "metadata": {
    "id": "XVcdEnr3xuXn"
   },
   "source": [
    "## **Mutil-Head Attention**\n",
    "\n",
    "<a href=\"https://ibb.co/ssrDp5M\"><img src=\"https://i.ibb.co/ygJMmhb/16.png\" alt=\"16\" border=\"0\" width=\"35%\"></a>\n",
    "\n",
    "<font size=\"4\"> $ \\text{MultiHead}\\left(\\textbf{Q}, \\textbf{K}, \\textbf{V}\\right) = \\left(\\text{head}_{1},\\dots,\\text{head}_{h}\\right)\\textbf{W}^{O} $ </font>\n",
    "\n",
    "<font size=\"3\"> $ \\quad \\text{where} \\text{ head}_{i} = \\text{Attention} \\left(\\textbf{Q}\\textbf{W}_{i}^{Q}, \\textbf{K}\\textbf{W}_{i}^{K}, \\textbf{V}\\textbf{W}_{i}^{V} \\right) $ </font>\n",
    "\n"
   ]
  },
  {
   "cell_type": "markdown",
   "metadata": {
    "id": "SaJDXTRlVvjL"
   },
   "source": [
    "Q, K, V, attn_mask는 Scaled Dot-Product Attention과 동일합니다.<br>\n",
    "head 개수는 2개 head의 dimension은 64 입니다."
   ]
  },
  {
   "cell_type": "code",
   "execution_count": null,
   "metadata": {
    "id": "K1UPHbe7V2QC"
   },
   "outputs": [],
   "source": [
    "Q = input_sums\n",
    "K = input_sums\n",
    "V = input_sums\n",
    "attn_mask = inputs.eq(0).unsqueeze(1).expand(Q.size(0), Q.size(1), K.size(1))\n",
    "\n",
    "batch_size = Q.size(0)\n",
    "n_head = 2\n",
    "d_head = 64"
   ]
  },
  {
   "cell_type": "markdown",
   "metadata": {
    "id": "mm-i68YJWD4E"
   },
   "source": [
    "<b> -- Multi Head Q, K, V </b>\n",
    "\n",
    "다음 코드는 Q, K, V를 여러 개의 head로 나누는 과정 입니다."
   ]
  },
  {
   "cell_type": "code",
   "execution_count": null,
   "metadata": {
    "colab": {
     "base_uri": "https://localhost:8080/"
    },
    "executionInfo": {
     "elapsed": 12,
     "status": "ok",
     "timestamp": 1647276988314,
     "user": {
      "displayName": "김진호",
      "photoUrl": "https://lh3.googleusercontent.com/a/default-user=s64",
      "userId": "17986262001557946094"
     },
     "user_tz": -540
    },
    "id": "HQAzOpOEWDkQ",
    "outputId": "b322d1c6-17b6-4625-aa83-1791492a2365"
   },
   "outputs": [
    {
     "name": "stdout",
     "output_type": "stream",
     "text": [
      "torch.Size([2, 2, 8, 64]) torch.Size([2, 2, 8, 64]) torch.Size([2, 2, 8, 64])\n"
     ]
    }
   ],
   "source": [
    "W_Q = nn.Linear(d_hidn, n_head * d_head)\n",
    "W_K = nn.Linear(d_hidn, n_head * d_head)\n",
    "W_V = nn.Linear(d_hidn, n_head * d_head)\n",
    "\n",
    "# (bs, n_head, n_seq, d_head)\n",
    "q_s = W_Q(Q).view(batch_size, -1, n_head, d_head).transpose(1,2)\n",
    "# (bs, n_head, n_seq, d_head)\n",
    "k_s = W_K(K).view(batch_size, -1, n_head, d_head).transpose(1,2)\n",
    "# (bs, n_head, n_seq, d_head)\n",
    "v_s = W_V(V).view(batch_size, -1, n_head, d_head).transpose(1,2)\n",
    "print(q_s.size(), k_s.size(), v_s.size())"
   ]
  },
  {
   "cell_type": "markdown",
   "metadata": {
    "id": "JCNmPEmpXSHr"
   },
   "source": [
    "<b> -- Multi Head Attention Mask</b>"
   ]
  },
  {
   "cell_type": "code",
   "execution_count": null,
   "metadata": {
    "colab": {
     "base_uri": "https://localhost:8080/"
    },
    "executionInfo": {
     "elapsed": 417,
     "status": "ok",
     "timestamp": 1647277177876,
     "user": {
      "displayName": "김진호",
      "photoUrl": "https://lh3.googleusercontent.com/a/default-user=s64",
      "userId": "17986262001557946094"
     },
     "user_tz": -540
    },
    "id": "WtWWrUb6XnqS",
    "outputId": "bf83745d-246d-49ff-da5c-78bcbf5bbf4f"
   },
   "outputs": [
    {
     "name": "stdout",
     "output_type": "stream",
     "text": [
      "torch.Size([2, 8, 8])\n",
      "torch.Size([2, 2, 8, 8])\n"
     ]
    }
   ],
   "source": [
    "print(attn_mask.size())\n",
    "attn_mask = attn_mask.unsqueeze(1).repeat(1, n_head, 1, 1)\n",
    "print(attn_mask.size())"
   ]
  },
  {
   "cell_type": "markdown",
   "metadata": {
    "id": "gkN-VcfFXSFh"
   },
   "source": [
    "<b> -- Attention</b>"
   ]
  },
  {
   "cell_type": "code",
   "execution_count": null,
   "metadata": {
    "colab": {
     "base_uri": "https://localhost:8080/"
    },
    "executionInfo": {
     "elapsed": 11,
     "status": "ok",
     "timestamp": 1647277186067,
     "user": {
      "displayName": "김진호",
      "photoUrl": "https://lh3.googleusercontent.com/a/default-user=s64",
      "userId": "17986262001557946094"
     },
     "user_tz": -540
    },
    "id": "Lm2hYcezXobI",
    "outputId": "d1ce12d0-25ac-440e-9e1c-f3a664f3aedb"
   },
   "outputs": [
    {
     "name": "stdout",
     "output_type": "stream",
     "text": [
      "torch.Size([2, 2, 8, 64])\n",
      "torch.Size([2, 2, 8, 8])\n"
     ]
    }
   ],
   "source": [
    "scaled_dot_attn = ScaledDotProductAttention(d_head)\n",
    "context, attn_prob = scaled_dot_attn(q_s, k_s, v_s, attn_mask)\n",
    "print(context.size())\n",
    "print(attn_prob.size())"
   ]
  },
  {
   "cell_type": "markdown",
   "metadata": {
    "id": "0jOvYWojXSC9"
   },
   "source": [
    "<b> -- Concat </b>"
   ]
  },
  {
   "cell_type": "code",
   "execution_count": null,
   "metadata": {
    "colab": {
     "base_uri": "https://localhost:8080/"
    },
    "executionInfo": {
     "elapsed": 419,
     "status": "ok",
     "timestamp": 1647277209320,
     "user": {
      "displayName": "김진호",
      "photoUrl": "https://lh3.googleusercontent.com/a/default-user=s64",
      "userId": "17986262001557946094"
     },
     "user_tz": -540
    },
    "id": "o98r3AInXo1b",
    "outputId": "cd27ccbb-f69e-4e77-9db5-99b37a573521"
   },
   "outputs": [
    {
     "name": "stdout",
     "output_type": "stream",
     "text": [
      "torch.Size([2, 8, 128])\n"
     ]
    }
   ],
   "source": [
    "# (bs, n_seq, n_head * d_head)\n",
    "context = context.transpose(1, 2).contiguous().view(batch_size, -1, n_head * d_head)\n",
    "print(context.size())"
   ]
  },
  {
   "cell_type": "markdown",
   "metadata": {
    "id": "AVVBJPKHXjnz"
   },
   "source": [
    "<b> -- Linear </b>"
   ]
  },
  {
   "cell_type": "code",
   "execution_count": null,
   "metadata": {
    "colab": {
     "base_uri": "https://localhost:8080/"
    },
    "executionInfo": {
     "elapsed": 10,
     "status": "ok",
     "timestamp": 1647277211197,
     "user": {
      "displayName": "김진호",
      "photoUrl": "https://lh3.googleusercontent.com/a/default-user=s64",
      "userId": "17986262001557946094"
     },
     "user_tz": -540
    },
    "id": "0qhJSs8QXpZ-",
    "outputId": "2430ad7f-1f20-4783-bb1a-0289d9db089a"
   },
   "outputs": [
    {
     "name": "stdout",
     "output_type": "stream",
     "text": [
      "torch.Size([2, 8, 128])\n"
     ]
    }
   ],
   "source": [
    "linear = nn.Linear(n_head * d_head, d_hidn)\n",
    "# (bs, n_seq, d_hidn)\n",
    "output = linear(context)\n",
    "print(output.size())"
   ]
  },
  {
   "cell_type": "markdown",
   "metadata": {
    "id": "yYG30EqRXGxh"
   },
   "source": [
    "<b> -- Implementation model </b>\n",
    "\n",
    "위 절차를 모델 구현을 위해 하나의 클래스 형태로 구현하면 다음과 같습니다."
   ]
  },
  {
   "cell_type": "code",
   "execution_count": null,
   "metadata": {
    "id": "bTbXnYemXGn6"
   },
   "outputs": [],
   "source": [
    "\"\"\" multi head attention \"\"\"\n",
    "class MultiHeadAttention(nn.Module):\n",
    "    def __init__(self, d_hidn, n_head, d_head):\n",
    "        super().__init__()\n",
    "        self.d_hidn = d_hidn\n",
    "        self.n_head = n_head\n",
    "        self.d_head = d_head\n",
    "\n",
    "        self.W_Q = nn.Linear(d_hidn, n_head * d_head)\n",
    "        self.W_K = nn.Linear(d_hidn, n_head * d_head)\n",
    "        self.W_V = nn.Linear(d_hidn, n_head * d_head)\n",
    "        self.scaled_dot_attn = ScaledDotProductAttention(d_head)\n",
    "        self.linear = nn.Linear(n_head * d_head, d_hidn)\n",
    "    \n",
    "    def forward(self, Q, K, V, attn_mask):\n",
    "        batch_size = Q.size(0)\n",
    "        # (bs, n_head, n_q_seq, d_head)\n",
    "        q_s = self.W_Q(Q).view(batch_size, -1, self.n_head, self.d_head).transpose(1,2)\n",
    "        # (bs, n_head, n_k_seq, d_head)\n",
    "        k_s = self.W_K(K).view(batch_size, -1, self.n_head, self.d_head).transpose(1,2)\n",
    "        # (bs, n_head, n_v_seq, d_head)\n",
    "        v_s = self.W_V(V).view(batch_size, -1, self.n_head, self.d_head).transpose(1,2)\n",
    "\n",
    "        # (bs, n_head, n_q_seq, n_k_seq)\n",
    "        attn_mask = attn_mask.unsqueeze(1).repeat(1, self.n_head, 1, 1)\n",
    "\n",
    "        # (bs, n_head, n_q_seq, d_head), (bs, n_head, n_q_seq, n_k_seq)\n",
    "        context, attn_prob = self.scaled_dot_attn(q_s, k_s, v_s, attn_mask)\n",
    "        # (bs, n_head, n_q_seq, h_head * d_head)\n",
    "        context = context.transpose(1, 2).contiguous().view(batch_size, -1, self.n_head * self.d_head)\n",
    "        # (bs, n_head, n_q_seq, e_embd)\n",
    "        output = self.linear(context)\n",
    "        # (bs, n_q_seq, d_hidn), (bs, n_head, n_q_seq, n_k_seq)\n",
    "        return output, attn_prob"
   ]
  },
  {
   "cell_type": "markdown",
   "metadata": {
    "id": "zOzuPJ5mxuun"
   },
   "source": [
    "## **FeedForward Network**"
   ]
  }
 ],
 "metadata": {
  "colab": {
   "authorship_tag": "ABX9TyOj52bPv4QuIObq8aWSmbNg",
   "collapsed_sections": [],
   "name": "Transformer Keypoint.ipynb",
   "provenance": []
  },
  "kernelspec": {
   "display_name": "Python 3 (ipykernel)",
   "language": "python",
   "name": "python3"
  },
  "language_info": {
   "codemirror_mode": {
    "name": "ipython",
    "version": 3
   },
   "file_extension": ".py",
   "mimetype": "text/x-python",
   "name": "python",
   "nbconvert_exporter": "python",
   "pygments_lexer": "ipython3",
   "version": "3.7.11"
  },
  "toc": {
   "base_numbering": 1,
   "nav_menu": {},
   "number_sections": true,
   "sideBar": true,
   "skip_h1_title": false,
   "title_cell": "Table of Contents",
   "title_sidebar": "Contents",
   "toc_cell": false,
   "toc_position": {
    "height": "calc(100% - 180px)",
    "left": "10px",
    "top": "150px",
    "width": "286.875px"
   },
   "toc_section_display": true,
   "toc_window_display": true
  }
 },
 "nbformat": 4,
 "nbformat_minor": 1
}
